{
 "cells": [
  {
   "cell_type": "code",
   "execution_count": 1,
   "id": "e84f912a-07b3-4306-8b5a-50b3c637042e",
   "metadata": {},
   "outputs": [],
   "source": [
    "import gym\n",
    "import numpy as np"
   ]
  },
  {
   "cell_type": "markdown",
   "id": "extended-leather",
   "metadata": {},
   "source": [
    "### understand the environment"
   ]
  },
  {
   "cell_type": "code",
   "execution_count": 2,
   "id": "e586e51a-a49f-4a41-bcb0-5db73608a04b",
   "metadata": {},
   "outputs": [
    {
     "name": "stdout",
     "output_type": "stream",
     "text": [
      "\n",
      "\u001b[41mS\u001b[0mFFF\n",
      "FHFH\n",
      "FFFH\n",
      "HFFG\n"
     ]
    }
   ],
   "source": [
    "env= gym.make('FrozenLake-v1')\n",
    "env.render()"
   ]
  },
  {
   "cell_type": "code",
   "execution_count": 3,
   "id": "fb1aec55-aca2-41ec-b16b-d90e453a72ff",
   "metadata": {},
   "outputs": [
    {
     "name": "stdout",
     "output_type": "stream",
     "text": [
      "total states 16\n",
      "total actions 4\n"
     ]
    }
   ],
   "source": [
    "print(f'total states {env.nS}')\n",
    "print(f'total actions {env.nA}')"
   ]
  },
  {
   "cell_type": "code",
   "execution_count": 4,
   "id": "unlikely-california",
   "metadata": {},
   "outputs": [
    {
     "name": "stdout",
     "output_type": "stream",
     "text": [
      "win threshold: 0.7\n"
     ]
    }
   ],
   "source": [
    "print('win threshold:', env.spec.reward_threshold)  "
   ]
  },
  {
   "cell_type": "code",
   "execution_count": 5,
   "id": "5a2ff9f0-5ccc-47a3-ac47-40ca3bac35bd",
   "metadata": {},
   "outputs": [
    {
     "name": "stdout",
     "output_type": "stream",
     "text": [
      "Discrete(4)\n",
      "Discrete(16)\n"
     ]
    }
   ],
   "source": [
    "print(env.action_space) \n",
    "print(env.observation_space)"
   ]
  },
  {
   "cell_type": "code",
   "execution_count": 6,
   "id": "aadcd87a-0b9f-476c-9bc0-28fe8433f2b2",
   "metadata": {},
   "outputs": [
    {
     "data": {
      "text/plain": [
       "[(1.0, 5, 0, True)]"
      ]
     },
     "execution_count": 6,
     "metadata": {},
     "output_type": "execute_result"
    }
   ],
   "source": [
    "#transition model\n",
    "#probability, next_state, reward, is_terminated\n",
    "state=5\n",
    "action=1\n",
    "env.P[state][action]"
   ]
  },
  {
   "cell_type": "code",
   "execution_count": 7,
   "id": "a4bbfd95-5b02-41cd-b50b-0ff127bc3c1c",
   "metadata": {},
   "outputs": [
    {
     "name": "stdout",
     "output_type": "stream",
     "text": [
      "state 0\n"
     ]
    },
    {
     "data": {
      "text/plain": [
       "(16,)"
      ]
     },
     "execution_count": 7,
     "metadata": {},
     "output_type": "execute_result"
    }
   ],
   "source": [
    "V=np.zeros(env.nS)\n",
    "state=env.reset()\n",
    "print(f'state {state}')\n",
    "V.shape"
   ]
  },
  {
   "cell_type": "code",
   "execution_count": 8,
   "id": "cfe0f8a7-cf45-4f37-8cb8-cf5555faaaef",
   "metadata": {},
   "outputs": [
    {
     "name": "stdout",
     "output_type": "stream",
     "text": [
      "\n",
      "\u001b[41mS\u001b[0mFFF\n",
      "FHFH\n",
      "FFFH\n",
      "HFFG\n"
     ]
    }
   ],
   "source": [
    "env.render()"
   ]
  },
  {
   "cell_type": "code",
   "execution_count": 9,
   "id": "8351a2f0-e482-4ee5-bdaa-41a6b0dfa22e",
   "metadata": {},
   "outputs": [],
   "source": [
    "    # - 0: LEFT\n",
    "    # - 1: DOWN\n",
    "    # - 2: RIGHT\n",
    "    # - 3: UP\n",
    "    \n",
    "    #     `is_slippery`: True/False. If True will move in intended direction with\n",
    "    # probability of 1/3 else will move in either perpendicular direction with\n",
    "    # equal probability of 1/3 in both directions.\n",
    "    #     For example, if action is left and is_slippery is True, then:\n",
    "    #     - P(move left)=1/3\n",
    "    #     - P(move up)=1/3\n",
    "    #     - P(move down)=1/3"
   ]
  },
  {
   "cell_type": "code",
   "execution_count": 10,
   "id": "530467d2-a567-4385-99eb-be8d648ec061",
   "metadata": {},
   "outputs": [],
   "source": [
    "action_mapping = {\n",
    "    3: '^',  # UP\n",
    "    2: '>',  # RIGHT\n",
    "    1: 'v',  # DOWN\n",
    "    0: '<',  # LEFT\n",
    "}\n",
    "action_mapping = {\n",
    "    3: '\\u2191',  # UP\n",
    "    2: '\\u2192',  # RIGHT\n",
    "    1: '\\u2193',  # DOWN\n",
    "    0: '\\u2190',  # LEFT\n",
    "} "
   ]
  },
  {
   "cell_type": "code",
   "execution_count": null,
   "id": "danish-forth",
   "metadata": {},
   "outputs": [],
   "source": []
  },
  {
   "cell_type": "code",
   "execution_count": 11,
   "id": "03b72813-537f-455b-90a4-875020b6b092",
   "metadata": {},
   "outputs": [
    {
     "name": "stdout",
     "output_type": "stream",
     "text": [
      "\n",
      "\u001b[41mS\u001b[0mFFF\n",
      "FHFH\n",
      "FFFH\n",
      "HFFG\n"
     ]
    }
   ],
   "source": [
    "env.render()"
   ]
  },
  {
   "cell_type": "code",
   "execution_count": null,
   "id": "0006e079-7c21-4381-b969-754e880bf990",
   "metadata": {},
   "outputs": [],
   "source": []
  },
  {
   "cell_type": "markdown",
   "id": "d30215e5-c6ac-4b48-889e-a21ea9f91b35",
   "metadata": {},
   "source": [
    "### Let's play an episode from keyboard input"
   ]
  },
  {
   "cell_type": "code",
   "execution_count": 12,
   "id": "smoking-poetry",
   "metadata": {
    "tags": []
   },
   "outputs": [
    {
     "name": "stdout",
     "output_type": "stream",
     "text": [
      "step= 1\n",
      "\n",
      "\u001b[41mS\u001b[0mFFF\n",
      "FHFH\n",
      "FFFH\n",
      "HFFG\n"
     ]
    },
    {
     "name": "stdin",
     "output_type": "stream",
     "text": [
      "give action (0=L, 1=D, 2=R, 3=U)= 1\n"
     ]
    },
    {
     "name": "stdout",
     "output_type": "stream",
     "text": [
      "s=0 a=1 s'=0\n",
      "step= 2\n",
      "  (Down)\n",
      "\u001b[41mS\u001b[0mFFF\n",
      "FHFH\n",
      "FFFH\n",
      "HFFG\n"
     ]
    },
    {
     "name": "stdin",
     "output_type": "stream",
     "text": [
      "give action (0=L, 1=D, 2=R, 3=U)= 1\n"
     ]
    },
    {
     "name": "stdout",
     "output_type": "stream",
     "text": [
      "s=0 a=1 s'=1\n",
      "step= 3\n",
      "  (Down)\n",
      "S\u001b[41mF\u001b[0mFF\n",
      "FHFH\n",
      "FFFH\n",
      "HFFG\n"
     ]
    },
    {
     "name": "stdin",
     "output_type": "stream",
     "text": [
      "give action (0=L, 1=D, 2=R, 3=U)= 1\n"
     ]
    },
    {
     "name": "stdout",
     "output_type": "stream",
     "text": [
      "s=0 a=1 s'=5\n",
      "--------ended-------------\n",
      "  (Down)\n",
      "SFFF\n",
      "F\u001b[41mH\u001b[0mFH\n",
      "FFFH\n",
      "HFFG\n",
      "rewards= 0.0\n"
     ]
    }
   ],
   "source": [
    "state=env.reset() \n",
    "rewards=0\n",
    "step=0\n",
    "while True:\n",
    "    step+=1\n",
    "    print('step=',step)\n",
    "    env.render()\n",
    "    try:\n",
    "        action=int(input('give action (0=L, 1=D, 2=R, 3=U)=') )\n",
    "    except:\n",
    "        continue\n",
    "    next_state,reward,done,info=env.step(action)\n",
    "    print(f's={state} a={action} s\\'={next_state}')\n",
    "    rewards+=reward \n",
    "    if done:\n",
    "        print('--------ended-------------')\n",
    "        break\n",
    "        \n",
    "env.render()\n",
    "print('rewards=',rewards)"
   ]
  },
  {
   "cell_type": "code",
   "execution_count": null,
   "id": "7f5485f0-d243-4c4d-a9d2-e176f1201d68",
   "metadata": {},
   "outputs": [],
   "source": []
  },
  {
   "cell_type": "code",
   "execution_count": 18,
   "id": "1c8c93ed-7e12-4b25-b1c4-ba306d99306a",
   "metadata": {},
   "outputs": [],
   "source": [
    "best_policy=[\n",
    "    [0,0,0,0],\n",
    "    [1,1,1,1],\n",
    "    [2,2,2,2],\n",
    "    [3,3,3,3]\n",
    "]"
   ]
  },
  {
   "cell_type": "code",
   "execution_count": 22,
   "id": "2c0fd604-8f2d-4ccb-8bd1-b07710a95c13",
   "metadata": {},
   "outputs": [],
   "source": [
    "best_policy=[\n",
    "    [0,3,3,3],\n",
    "    [0,0,0,0],\n",
    "    [3,1,0,0],\n",
    "    [0,2,1,0]\n",
    "]"
   ]
  },
  {
   "cell_type": "code",
   "execution_count": 23,
   "id": "50a08abd-6347-4a10-b60a-f597b5de43ef",
   "metadata": {},
   "outputs": [],
   "source": [
    "def play_episodes(policy, episodes=1000):\n",
    "    rewards=0\n",
    "    wins=0\n",
    "    for i in range(episodes):\n",
    "        state=env.reset()\n",
    "        done=False\n",
    "        while not done:\n",
    "            r=state//4\n",
    "            c=state%4\n",
    "            action=policy[r][c]\n",
    "            next_state,reward,done,info=env.step(action)\n",
    "            rewards+=reward\n",
    "            state=next_state\n",
    "            if done and reward==1.0:\n",
    "                wins+=1\n",
    "    return wins,rewards"
   ]
  },
  {
   "cell_type": "code",
   "execution_count": 28,
   "id": "862426eb-0e7d-44f5-b349-fe6b20b3205a",
   "metadata": {},
   "outputs": [
    {
     "name": "stdout",
     "output_type": "stream",
     "text": [
      "total play 1000 total wins 771 total rewards 771.0\n",
      "success rate 77.10000000000001%\n"
     ]
    }
   ],
   "source": [
    "episodes=1000\n",
    "wins, rewards=play_episodes(best_policy, episodes=episodes)\n",
    "print(f'total play {episodes} total wins {wins} total rewards {rewards}')\n",
    "print(f'success rate {(wins/episodes)*100}%')"
   ]
  },
  {
   "cell_type": "code",
   "execution_count": null,
   "id": "ec187643-44b6-403f-abdc-a722c9548c42",
   "metadata": {},
   "outputs": [],
   "source": []
  },
  {
   "cell_type": "code",
   "execution_count": null,
   "id": "cb6709f1-6fdb-49d1-aa26-33d7ccf6f821",
   "metadata": {},
   "outputs": [],
   "source": []
  },
  {
   "cell_type": "code",
   "execution_count": null,
   "id": "b6ada9f7-5949-47a0-a6bf-a76522f13106",
   "metadata": {},
   "outputs": [],
   "source": []
  },
  {
   "cell_type": "code",
   "execution_count": null,
   "id": "c14e8eef-68ab-44d6-a437-e6fe3b8aa8e0",
   "metadata": {},
   "outputs": [],
   "source": []
  },
  {
   "cell_type": "code",
   "execution_count": null,
   "id": "354c70d1-316a-4510-af3e-3d07f74ac310",
   "metadata": {},
   "outputs": [],
   "source": []
  }
 ],
 "metadata": {
  "kernelspec": {
   "display_name": "Python 3 (ipykernel)",
   "language": "python",
   "name": "python3"
  },
  "language_info": {
   "codemirror_mode": {
    "name": "ipython",
    "version": 3
   },
   "file_extension": ".py",
   "mimetype": "text/x-python",
   "name": "python",
   "nbconvert_exporter": "python",
   "pygments_lexer": "ipython3",
   "version": "3.9.1"
  }
 },
 "nbformat": 4,
 "nbformat_minor": 5
}
