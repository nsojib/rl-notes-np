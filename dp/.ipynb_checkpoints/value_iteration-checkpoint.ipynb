{
 "cells": [
  {
   "cell_type": "code",
   "execution_count": 39,
   "id": "e84f912a-07b3-4306-8b5a-50b3c637042e",
   "metadata": {},
   "outputs": [],
   "source": [
    "import gym\n",
    "import numpy as np"
   ]
  },
  {
   "cell_type": "markdown",
   "id": "54e03d6c-5494-443b-8a45-08f8994808cb",
   "metadata": {
    "tags": []
   },
   "source": [
    "### value iteration\n",
    "1. value iteration use bellman optimality equation to calculate optimal v\n",
    "2. choose action greedily. \n",
    "3. stop when $V^*(s)$ doesn't change.\n",
    "4. extract optimal policy at the end. \n",
    "$$\n",
    "V(s) = \\underset{a}{max}\\big\\{ \\sum_{s',a}  p(s'|s,a)(r + \\gamma*V(s') \\big\\}\n",
    "$$\n",
    " \n",
    "### eqs\n",
    "\n",
    "$$ q(s,a) = \\sum_{s',a}  p(s'|s,a) \\big[r + \\gamma*V(s') \\big]$$\n",
    "\n",
    "$$V^*(s)=\\underset{a}{max} q(s,a) $$"
   ]
  },
  {
   "cell_type": "code",
   "execution_count": 40,
   "id": "9c8b14e9-d36e-49e3-a1f8-5a66d5c80bbc",
   "metadata": {},
   "outputs": [],
   "source": [
    "def calc_qvalues(state, env, V, gamma):\n",
    "    # calculate q(s,a) for all the actions.\n",
    "    action_values = np.zeros(env.nA)\n",
    "    for a in range(env.nA):\n",
    "        transitions=env.P[state][a]\n",
    "        expected_actionvalue=0\n",
    "        for transition in transitions:\n",
    "            psas, next_state, reward, done=transition\n",
    "            expected_actionvalue += psas* ( reward + gamma * V[next_state] )\n",
    "\n",
    "        action_values[a] =expected_actionvalue\n",
    "    return action_values"
   ]
  },
  {
   "cell_type": "code",
   "execution_count": 41,
   "id": "e586e51a-a49f-4a41-bcb0-5db73608a04b",
   "metadata": {},
   "outputs": [
    {
     "name": "stdout",
     "output_type": "stream",
     "text": [
      "\n",
      "\u001b[41mS\u001b[0mFFF\n",
      "FHFH\n",
      "FFFH\n",
      "HFFG\n"
     ]
    }
   ],
   "source": [
    "env_id='FrozenLake-v1'\n",
    "# env_id='FrozenLake8x8-v1'\n",
    "env= gym.make(env_id)\n",
    "env.render()"
   ]
  },
  {
   "cell_type": "code",
   "execution_count": 42,
   "id": "fb1aec55-aca2-41ec-b16b-d90e453a72ff",
   "metadata": {},
   "outputs": [
    {
     "name": "stdout",
     "output_type": "stream",
     "text": [
      "total states 16\n",
      "total actions 4\n"
     ]
    }
   ],
   "source": [
    "print(f'total states {env.nS}')\n",
    "print(f'total actions {env.nA}')"
   ]
  },
  {
   "cell_type": "code",
   "execution_count": 43,
   "id": "aadcd87a-0b9f-476c-9bc0-28fe8433f2b2",
   "metadata": {},
   "outputs": [
    {
     "data": {
      "text/plain": [
       "[(0.3333333333333333, 0, 0.0, False),\n",
       " (0.3333333333333333, 5, 0.0, True),\n",
       " (0.3333333333333333, 2, 0.0, False)]"
      ]
     },
     "execution_count": 43,
     "metadata": {},
     "output_type": "execute_result"
    }
   ],
   "source": [
    "#transition model\n",
    "#probability, next_state, reward, is_terminated\n",
    "state=1\n",
    "action=1\n",
    "env.P[state][action]"
   ]
  },
  {
   "cell_type": "code",
   "execution_count": 44,
   "id": "5db0e630-d531-4e9f-af54-6f3d4449e6af",
   "metadata": {},
   "outputs": [
    {
     "name": "stdout",
     "output_type": "stream",
     "text": [
      "[[0. 0. 0. 0.]\n",
      " [0. 0. 0. 0.]\n",
      " [0. 0. 0. 0.]\n",
      " [0. 0. 0. 0.]]\n"
     ]
    }
   ],
   "source": [
    "gamma=1.0\n",
    "max_iter=1000\n",
    "threshold=1e-9\n",
    "V=np.zeros(env.nS)\n",
    "print(V.reshape(4,4))"
   ]
  },
  {
   "cell_type": "code",
   "execution_count": 57,
   "id": "315bb416-914f-4df1-9cd5-092c82498503",
   "metadata": {},
   "outputs": [
    {
     "name": "stdout",
     "output_type": "stream",
     "text": [
      "i=0 vdiff=0.04440191855728104\n"
     ]
    }
   ],
   "source": [
    "for i in range(1): \n",
    "    vdiff=0\n",
    "    for state in range(env.nS):\n",
    "        qs=calc_qvalues(state, env, V, gamma) \n",
    "        v=np.max(qs) \n",
    "        vdiff=max(vdiff, np.abs(V[state] - v) )  #max vdiff of all the v\n",
    "        V[state]=v \n",
    "        \n",
    "    if vdiff < threshold:      #change is too small\n",
    "        print(f'converged at {i} th step')\n",
    "        breakp\n",
    "    if i%100==0:\n",
    "        print(f'i={i} vdiff={vdiff}')\n",
    "        "
   ]
  },
  {
   "cell_type": "code",
   "execution_count": 58,
   "id": "a72050ea-85bd-4093-8b1f-2e90034b20ab",
   "metadata": {},
   "outputs": [
    {
     "name": "stdout",
     "output_type": "stream",
     "text": [
      "[[0.01356501 0.02398008 0.06310014 0.03674914]\n",
      " [0.04552152 0.         0.13817903 0.        ]\n",
      " [0.13636133 0.30913309 0.38352893 0.        ]\n",
      " [0.         0.48400293 0.72909254 0.        ]]\n"
     ]
    }
   ],
   "source": [
    "print(V.reshape(4,4))"
   ]
  },
  {
   "cell_type": "code",
   "execution_count": null,
   "id": "4a5cc84b-64ed-4972-82fa-c4383bdf52a7",
   "metadata": {},
   "outputs": [],
   "source": []
  },
  {
   "cell_type": "code",
   "execution_count": null,
   "id": "a59d4985-b997-4375-aa78-6e1cdc8c5a4e",
   "metadata": {},
   "outputs": [],
   "source": []
  },
  {
   "cell_type": "markdown",
   "id": "79356cdf-7522-424c-9fe2-77a11e0187be",
   "metadata": {},
   "source": [
    "### the Value Iteration algorithm.\n"
   ]
  },
  {
   "cell_type": "code",
   "execution_count": 70,
   "id": "24142801-9d2f-44eb-8607-67cad29395b9",
   "metadata": {},
   "outputs": [
    {
     "name": "stdout",
     "output_type": "stream",
     "text": [
      "i=0 vdiff=0.3333333333333333\n",
      "i=100 vdiff=0.0017938187487156476\n",
      "i=200 vdiff=5.9404943938301535e-05\n",
      "i=300 vdiff=1.961768156810706e-06\n",
      "i=400 vdiff=6.478463299153248e-08\n",
      "i=500 vdiff=2.139421417801657e-09\n",
      "converged at 523 th step\n"
     ]
    }
   ],
   "source": [
    "gamma=1.0\n",
    "max_iter=1000\n",
    "threshold=1e-9\n",
    "V=np.zeros(env.nS)\n",
    "for i in range(max_iter): \n",
    "    vdiff=0\n",
    "    for state in range(env.nS):\n",
    "        qs=calc_qvalues(state, env, V, gamma) \n",
    "        v=np.max(qs) \n",
    "        vdiff=max(vdiff, np.abs(V[state] - v) )  #max vdiff of all the v\n",
    "        V[state]=v \n",
    "        \n",
    "    if vdiff < threshold:      #change is too small\n",
    "        print(f'converged at {i} th step')\n",
    "        break\n",
    "    if i%100==0:\n",
    "        print(f'i={i} vdiff={vdiff}')\n",
    "        "
   ]
  },
  {
   "cell_type": "code",
   "execution_count": 71,
   "id": "ff2ed602-360e-4ca6-86ab-9285b1d9ff6d",
   "metadata": {},
   "outputs": [],
   "source": [
    "# V"
   ]
  },
  {
   "cell_type": "markdown",
   "id": "bb9dcceb-9797-4869-95ad-e177bfd4356a",
   "metadata": {},
   "source": [
    "### now extract the optimal policy from the optimal V"
   ]
  },
  {
   "cell_type": "code",
   "execution_count": 72,
   "id": "91a75956-d662-48d6-8c73-5f0aba11d4b3",
   "metadata": {},
   "outputs": [],
   "source": [
    "    policy=np.zeros((env.nS, env.nA))\n",
    "    for state in range(env.nS):\n",
    "        action_values=calc_qvalues(state, env, V, gamma) \n",
    "        action=np.argmax(action_values)\n",
    "        policy[state][action]=1.0"
   ]
  },
  {
   "cell_type": "code",
   "execution_count": 73,
   "id": "62094196-41f1-47a4-a119-3dbbed521742",
   "metadata": {},
   "outputs": [
    {
     "name": "stdout",
     "output_type": "stream",
     "text": [
      "\n",
      "\u001b[41mS\u001b[0mFFF\n",
      "FHFH\n",
      "FFFH\n",
      "HFFG\n"
     ]
    }
   ],
   "source": [
    "state=env.reset()\n",
    "env.render()\n",
    "action=np.argmax(policy[state])\n",
    "# action_mapping[action]"
   ]
  },
  {
   "cell_type": "code",
   "execution_count": 74,
   "id": "8351a2f0-e482-4ee5-bdaa-41a6b0dfa22e",
   "metadata": {},
   "outputs": [],
   "source": [
    "    # - 0: LEFT\n",
    "    # - 1: DOWN\n",
    "    # - 2: RIGHT\n",
    "    # - 3: UP\n",
    "    \n",
    "    #     `is_slippery`: True/False. If True will move in intended direction with\n",
    "    # probability of 1/3 else will move in either perpendicular direction with\n",
    "    # equal probability of 1/3 in both directions.\n",
    "    #     For example, if action is left and is_slippery is True, then:\n",
    "    #     - P(move left)=1/3\n",
    "    #     - P(move up)=1/3\n",
    "    #     - P(move down)=1/3"
   ]
  },
  {
   "cell_type": "code",
   "execution_count": 75,
   "id": "530467d2-a567-4385-99eb-be8d648ec061",
   "metadata": {},
   "outputs": [],
   "source": [
    "action_mapping = {\n",
    "    3: '^',  # UP\n",
    "    2: '>',  # RIGHT\n",
    "    1: 'v',  # DOWN\n",
    "    0: '<',  # LEFT\n",
    "}\n",
    "action_mapping = {\n",
    "    3: '\\u2191',  # UP\n",
    "    2: '\\u2192',  # RIGHT\n",
    "    1: '\\u2193',  # DOWN\n",
    "    0: '\\u2190',  # LEFT\n",
    "} "
   ]
  },
  {
   "cell_type": "code",
   "execution_count": 76,
   "id": "1d77c634-d22d-40e6-8569-6ded2d24e90f",
   "metadata": {},
   "outputs": [
    {
     "name": "stdout",
     "output_type": "stream",
     "text": [
      "0 3 3 3 \n",
      "\n",
      "0 0 0 0 \n",
      "\n",
      "3 1 0 0 \n",
      "\n",
      "0 2 1 0 \n",
      "\n"
     ]
    }
   ],
   "source": [
    "for i, action in enumerate( np.argmax(policy, axis=1) ): \n",
    "    print(action , end=' ')\n",
    "    if (i+1)%4==0:\n",
    "        print('\\n')"
   ]
  },
  {
   "cell_type": "code",
   "execution_count": 77,
   "id": "648f37ad-524f-4ca7-a0bd-1be6dc77d0c5",
   "metadata": {},
   "outputs": [
    {
     "name": "stdout",
     "output_type": "stream",
     "text": [
      "← ↑ ↑ ↑ \n",
      "\n",
      "← ← ← ← \n",
      "\n",
      "↑ ↓ ← ← \n",
      "\n",
      "← → ↓ ← \n",
      "\n"
     ]
    }
   ],
   "source": [
    "for i, action in enumerate( np.argmax(policy, axis=1) ):\n",
    "    print(action_mapping[action] , end=' ')\n",
    "    # print(action , end=' ')\n",
    "    if (i+1)%4==0:\n",
    "        print('\\n')"
   ]
  },
  {
   "cell_type": "code",
   "execution_count": null,
   "id": "0006e079-7c21-4381-b969-754e880bf990",
   "metadata": {},
   "outputs": [],
   "source": []
  },
  {
   "cell_type": "markdown",
   "id": "d30215e5-c6ac-4b48-889e-a21ea9f91b35",
   "metadata": {},
   "source": [
    "### Let's play an episode"
   ]
  },
  {
   "cell_type": "code",
   "execution_count": 66,
   "id": "3963e5b0-56d1-42ed-92c9-b0acb65c6346",
   "metadata": {
    "collapsed": true,
    "jupyter": {
     "outputs_hidden": true
    },
    "tags": []
   },
   "outputs": [
    {
     "name": "stdout",
     "output_type": "stream",
     "text": [
      "step= 1\n",
      "\n",
      "\u001b[41mS\u001b[0mFFF\n",
      "FHFH\n",
      "FFFH\n",
      "HFFG\n",
      "s=0 a=1 s'=4\n",
      "step= 2\n",
      "  (Down)\n",
      "SFFF\n",
      "\u001b[41mF\u001b[0mHFH\n",
      "FFFH\n",
      "HFFG\n",
      "s=4 a=0 s'=0\n",
      "step= 3\n",
      "  (Left)\n",
      "\u001b[41mS\u001b[0mFFF\n",
      "FHFH\n",
      "FFFH\n",
      "HFFG\n",
      "s=0 a=1 s'=4\n",
      "step= 4\n",
      "  (Down)\n",
      "SFFF\n",
      "\u001b[41mF\u001b[0mHFH\n",
      "FFFH\n",
      "HFFG\n",
      "s=4 a=0 s'=4\n",
      "step= 5\n",
      "  (Left)\n",
      "SFFF\n",
      "\u001b[41mF\u001b[0mHFH\n",
      "FFFH\n",
      "HFFG\n",
      "s=4 a=0 s'=4\n",
      "step= 6\n",
      "  (Left)\n",
      "SFFF\n",
      "\u001b[41mF\u001b[0mHFH\n",
      "FFFH\n",
      "HFFG\n",
      "s=4 a=0 s'=8\n",
      "step= 7\n",
      "  (Left)\n",
      "SFFF\n",
      "FHFH\n",
      "\u001b[41mF\u001b[0mFFH\n",
      "HFFG\n",
      "s=8 a=3 s'=8\n",
      "step= 8\n",
      "  (Up)\n",
      "SFFF\n",
      "FHFH\n",
      "\u001b[41mF\u001b[0mFFH\n",
      "HFFG\n",
      "s=8 a=3 s'=4\n",
      "step= 9\n",
      "  (Up)\n",
      "SFFF\n",
      "\u001b[41mF\u001b[0mHFH\n",
      "FFFH\n",
      "HFFG\n",
      "s=4 a=0 s'=8\n",
      "step= 10\n",
      "  (Left)\n",
      "SFFF\n",
      "FHFH\n",
      "\u001b[41mF\u001b[0mFFH\n",
      "HFFG\n",
      "s=8 a=3 s'=9\n",
      "step= 11\n",
      "  (Up)\n",
      "SFFF\n",
      "FHFH\n",
      "F\u001b[41mF\u001b[0mFH\n",
      "HFFG\n",
      "s=9 a=1 s'=8\n",
      "step= 12\n",
      "  (Down)\n",
      "SFFF\n",
      "FHFH\n",
      "\u001b[41mF\u001b[0mFFH\n",
      "HFFG\n",
      "s=8 a=3 s'=8\n",
      "step= 13\n",
      "  (Up)\n",
      "SFFF\n",
      "FHFH\n",
      "\u001b[41mF\u001b[0mFFH\n",
      "HFFG\n",
      "s=8 a=3 s'=9\n",
      "step= 14\n",
      "  (Up)\n",
      "SFFF\n",
      "FHFH\n",
      "F\u001b[41mF\u001b[0mFH\n",
      "HFFG\n",
      "s=9 a=1 s'=13\n",
      "step= 15\n",
      "  (Down)\n",
      "SFFF\n",
      "FHFH\n",
      "FFFH\n",
      "H\u001b[41mF\u001b[0mFG\n",
      "s=13 a=2 s'=9\n",
      "step= 16\n",
      "  (Right)\n",
      "SFFF\n",
      "FHFH\n",
      "F\u001b[41mF\u001b[0mFH\n",
      "HFFG\n",
      "s=9 a=1 s'=8\n",
      "step= 17\n",
      "  (Down)\n",
      "SFFF\n",
      "FHFH\n",
      "\u001b[41mF\u001b[0mFFH\n",
      "HFFG\n",
      "s=8 a=3 s'=4\n",
      "step= 18\n",
      "  (Up)\n",
      "SFFF\n",
      "\u001b[41mF\u001b[0mHFH\n",
      "FFFH\n",
      "HFFG\n",
      "s=4 a=0 s'=4\n",
      "step= 19\n",
      "  (Left)\n",
      "SFFF\n",
      "\u001b[41mF\u001b[0mHFH\n",
      "FFFH\n",
      "HFFG\n",
      "s=4 a=0 s'=8\n",
      "step= 20\n",
      "  (Left)\n",
      "SFFF\n",
      "FHFH\n",
      "\u001b[41mF\u001b[0mFFH\n",
      "HFFG\n",
      "s=8 a=3 s'=4\n",
      "step= 21\n",
      "  (Up)\n",
      "SFFF\n",
      "\u001b[41mF\u001b[0mHFH\n",
      "FFFH\n",
      "HFFG\n",
      "s=4 a=0 s'=4\n",
      "step= 22\n",
      "  (Left)\n",
      "SFFF\n",
      "\u001b[41mF\u001b[0mHFH\n",
      "FFFH\n",
      "HFFG\n",
      "s=4 a=0 s'=4\n",
      "step= 23\n",
      "  (Left)\n",
      "SFFF\n",
      "\u001b[41mF\u001b[0mHFH\n",
      "FFFH\n",
      "HFFG\n",
      "s=4 a=0 s'=8\n",
      "step= 24\n",
      "  (Left)\n",
      "SFFF\n",
      "FHFH\n",
      "\u001b[41mF\u001b[0mFFH\n",
      "HFFG\n",
      "s=8 a=3 s'=4\n",
      "step= 25\n",
      "  (Up)\n",
      "SFFF\n",
      "\u001b[41mF\u001b[0mHFH\n",
      "FFFH\n",
      "HFFG\n",
      "s=4 a=0 s'=8\n",
      "step= 26\n",
      "  (Left)\n",
      "SFFF\n",
      "FHFH\n",
      "\u001b[41mF\u001b[0mFFH\n",
      "HFFG\n",
      "s=8 a=3 s'=9\n",
      "step= 27\n",
      "  (Up)\n",
      "SFFF\n",
      "FHFH\n",
      "F\u001b[41mF\u001b[0mFH\n",
      "HFFG\n",
      "s=9 a=1 s'=10\n",
      "step= 28\n",
      "  (Down)\n",
      "SFFF\n",
      "FHFH\n",
      "FF\u001b[41mF\u001b[0mH\n",
      "HFFG\n",
      "s=10 a=0 s'=9\n",
      "step= 29\n",
      "  (Left)\n",
      "SFFF\n",
      "FHFH\n",
      "F\u001b[41mF\u001b[0mFH\n",
      "HFFG\n",
      "s=9 a=1 s'=8\n",
      "step= 30\n",
      "  (Down)\n",
      "SFFF\n",
      "FHFH\n",
      "\u001b[41mF\u001b[0mFFH\n",
      "HFFG\n",
      "s=8 a=3 s'=9\n",
      "step= 31\n",
      "  (Up)\n",
      "SFFF\n",
      "FHFH\n",
      "F\u001b[41mF\u001b[0mFH\n",
      "HFFG\n",
      "s=9 a=1 s'=8\n",
      "step= 32\n",
      "  (Down)\n",
      "SFFF\n",
      "FHFH\n",
      "\u001b[41mF\u001b[0mFFH\n",
      "HFFG\n",
      "s=8 a=3 s'=9\n",
      "step= 33\n",
      "  (Up)\n",
      "SFFF\n",
      "FHFH\n",
      "F\u001b[41mF\u001b[0mFH\n",
      "HFFG\n",
      "s=9 a=1 s'=10\n",
      "step= 34\n",
      "  (Down)\n",
      "SFFF\n",
      "FHFH\n",
      "FF\u001b[41mF\u001b[0mH\n",
      "HFFG\n",
      "s=10 a=0 s'=9\n",
      "step= 35\n",
      "  (Left)\n",
      "SFFF\n",
      "FHFH\n",
      "F\u001b[41mF\u001b[0mFH\n",
      "HFFG\n",
      "s=9 a=1 s'=13\n",
      "step= 36\n",
      "  (Down)\n",
      "SFFF\n",
      "FHFH\n",
      "FFFH\n",
      "H\u001b[41mF\u001b[0mFG\n",
      "s=13 a=2 s'=13\n",
      "step= 37\n",
      "  (Right)\n",
      "SFFF\n",
      "FHFH\n",
      "FFFH\n",
      "H\u001b[41mF\u001b[0mFG\n",
      "s=13 a=2 s'=14\n",
      "step= 38\n",
      "  (Right)\n",
      "SFFF\n",
      "FHFH\n",
      "FFFH\n",
      "HF\u001b[41mF\u001b[0mG\n",
      "s=14 a=1 s'=14\n",
      "step= 39\n",
      "  (Down)\n",
      "SFFF\n",
      "FHFH\n",
      "FFFH\n",
      "HF\u001b[41mF\u001b[0mG\n",
      "s=14 a=1 s'=15\n",
      "rewards= 1.0\n"
     ]
    }
   ],
   "source": [
    "state=env.reset() \n",
    "rewards=0\n",
    "step=0\n",
    "while True:\n",
    "    step+=1\n",
    "    print('step=',step)\n",
    "    env.render()\n",
    "    # try:\n",
    "    #     am=int(input('give action=') )\n",
    "    # except:\n",
    "    #     pass\n",
    "    action=np.argmax(policy[state])\n",
    "    next_state,reward,done,info=env.step(action)\n",
    "    print(f's={state} a={action} s\\'={next_state}')\n",
    "    rewards+=reward\n",
    "    state=next_state\n",
    "    if done:\n",
    "        break\n",
    "print('rewards=',rewards)"
   ]
  },
  {
   "cell_type": "code",
   "execution_count": null,
   "id": "bd26922f-4c40-4b04-b2d2-3771981a4ea9",
   "metadata": {},
   "outputs": [],
   "source": []
  },
  {
   "cell_type": "code",
   "execution_count": 67,
   "id": "50a08abd-6347-4a10-b60a-f597b5de43ef",
   "metadata": {},
   "outputs": [],
   "source": [
    "#play an episode using the best policy\n",
    "def play_episodes(policy, episodes=1000):\n",
    "    rewards=0\n",
    "    wins=0\n",
    "    for i in range(episodes):\n",
    "        state=env.reset()\n",
    "        done=False\n",
    "        while not done:\n",
    "            action=np.argmax(policy[state])\n",
    "            next_state,reward,done,info=env.step(action)\n",
    "            rewards+=reward\n",
    "            state=next_state\n",
    "            if done and reward==1.0:\n",
    "                wins+=1\n",
    "    return wins,rewards"
   ]
  },
  {
   "cell_type": "code",
   "execution_count": 78,
   "id": "862426eb-0e7d-44f5-b349-fe6b20b3205a",
   "metadata": {},
   "outputs": [
    {
     "name": "stdout",
     "output_type": "stream",
     "text": [
      "total play 1000 total wins 754 total rewards 754.0\n",
      "success rate 75.4%\n"
     ]
    }
   ],
   "source": [
    "episodes=1000\n",
    "wins, rewards=play_episodes(policy, episodes=episodes)\n",
    "print(f'total play {episodes} total wins {wins} total rewards {rewards}')\n",
    "print(f'success rate {(wins/episodes)*100}%')"
   ]
  },
  {
   "cell_type": "code",
   "execution_count": null,
   "id": "ec187643-44b6-403f-abdc-a722c9548c42",
   "metadata": {},
   "outputs": [],
   "source": []
  },
  {
   "cell_type": "code",
   "execution_count": null,
   "id": "5da3a8c3-e398-42a4-83c5-58dccaccde2e",
   "metadata": {},
   "outputs": [],
   "source": []
  },
  {
   "cell_type": "code",
   "execution_count": null,
   "id": "c14e8eef-68ab-44d6-a437-e6fe3b8aa8e0",
   "metadata": {},
   "outputs": [],
   "source": []
  },
  {
   "cell_type": "code",
   "execution_count": 79,
   "id": "afc8c1e0-921a-4e79-aace-d8235a2dc87a",
   "metadata": {},
   "outputs": [],
   "source": [
    "x=[1,2,3,4,5,6]\n",
    "px=[1/6, 1/6, 1/6,1/6, 1/6, 1/6]"
   ]
  },
  {
   "cell_type": "code",
   "execution_count": 80,
   "id": "ab56b892-f206-4e62-8e4a-1ebfba4223fa",
   "metadata": {},
   "outputs": [
    {
     "name": "stdout",
     "output_type": "stream",
     "text": [
      "expected mean: 3.5\n"
     ]
    }
   ],
   "source": [
    "exp=0\n",
    "for i in range(len(x)):\n",
    "    exp+=px[i]*x[i]\n",
    "print('expected mean:', exp)"
   ]
  },
  {
   "cell_type": "code",
   "execution_count": 96,
   "id": "354c70d1-316a-4510-af3e-3d07f74ac310",
   "metadata": {},
   "outputs": [
    {
     "name": "stdout",
     "output_type": "stream",
     "text": [
      "emperical mean 3.5001742\n"
     ]
    }
   ],
   "source": [
    "samples=[]\n",
    "N=10000000\n",
    "for i in range(N):\n",
    "    rx=np.random.randint(1, 7)\n",
    "    samples.append(rx)\n",
    "\n",
    "emperical_mean=np.mean(samples)\n",
    "print('emperical mean', emperical_mean)"
   ]
  },
  {
   "cell_type": "code",
   "execution_count": 98,
   "id": "2f0395bb-81d2-402b-a53d-ab691a95401d",
   "metadata": {},
   "outputs": [
    {
     "name": "stdout",
     "output_type": "stream",
     "text": [
      "[3, 4, 5, 4, 5, 4, 6, 5, 6, 3, 2, 3, 3, 2, 6, 2, 5, 5, 3, 3, 5, 1, 3, 6, 4, 4, 5, 3, 2, 4, 4, 4, 5, 3, 3, 6, 2, 1, 5, 4, 1, 4, 6, 4, 1, 4, 3, 5, 3, 3, 4, 1, 3, 5, 2, 2, 1, 3, 4, 2, 4, 3, 3, 1, 4, 2, 6, 1, 1, 5, 2, 1, 4, 5, 3, 6, 4, 6, 5, 2, 3, 4, 4, 3, 3, 5, 5, 3, 6, 1, 5, 1, 1, 5, 5, 1, 5, 3, 3, 3, 5, 3, 2, 6, 5, 3, 3, 1, 4, 2, 2, 5, 4, 1, 6, 5, 1, 1, 5, 4, 6, 3, 1, 3, 1, 5, 6, 6, 3, 1, 4, 6, 1, 3, 4, 5, 1, 1, 1, 4, 4, 4, 3, 4, 2, 1, 6, 3, 3, 6, 4, 3, 1, 3, 2, 1, 6, 4, 4, 1, 1, 6, 3, 4, 3, 6, 4, 4, 1, 3, 2, 4, 3, 6, 1, 4, 2, 3, 4, 6, 4, 5, 1, 6, 4, 4, 3, 6, 1, 3, 6, 2, 5, 5, 6, 6, 3, 6, 3, 4, 2, 6, 6, 3, 5, 4, 5, 4, 3, 6, 1, 5, 2, 3, 3, 1, 6, 2, 1, 4, 2, 2, 5, 2, 5, 6, 5, 4, 6, 2, 2, 3, 6, 4, 2, 6, 4, 3, 3, 5, 3, 6, 5, 6, 2, 6, 1, 3, 2, 4, 2, 3, 2, 5, 2, 6, 2, 3, 4, 1, 6, 4, 4, 5, 6, 3, 3, 6, 5, 2, 2, 2, 3, 4, 3, 5, 6, 2, 5, 1, 1, 3, 1, 6, 1, 6, 3, 5, 2, 6, 2, 5, 4, 4, 6, 5, 5, 6, 1, 3, 5, 5, 1, 6, 4, 6, 6, 2, 2, 5, 6, 5, 5, 1, 1, 6, 3, 4, 6, 2, 3, 1, 1, 5, 3, 3, 3, 1, 5, 5, 5, 3, 1, 2, 6, 6, 3, 1, 5, 6, 1, 3, 1, 1, 4, 2, 6, 5, 4, 1, 1, 1, 1, 2, 6, 2, 5, 1, 5, 3, 3, 1, 1, 5, 4, 1, 6, 1, 5, 1, 2, 5, 1, 5, 5, 2, 3, 4, 2, 3, 5, 2, 3, 2, 4, 6, 6, 5, 4, 2, 3, 6, 6, 5, 3, 4, 4, 6, 1, 6, 5, 5, 6, 6, 6, 6, 4, 5, 4, 1, 3, 5, 3, 1, 3, 5, 1, 1, 3, 4, 1, 4, 3, 6, 3, 2, 3, 3, 1, 6, 1, 2, 6, 5, 4, 2, 2, 5, 5, 3, 6, 3, 5, 1, 6, 1, 1, 2, 2, 5, 5, 4, 1, 2, 3, 2, 5, 5, 1, 5, 3, 1, 5, 2, 2, 5, 3, 2, 2, 4, 3, 6, 4, 1, 4, 1, 5, 1, 2, 6, 3, 5, 1, 1, 3, 3, 4, 4, 6, 4, 2, 5, 5, 4, 6, 3, 1, 3, 4, 2]\n"
     ]
    }
   ],
   "source": [
    "print(samples[:500])"
   ]
  },
  {
   "cell_type": "code",
   "execution_count": null,
   "id": "b9b3872e-54ad-4a7e-92af-55e141937ca3",
   "metadata": {},
   "outputs": [],
   "source": []
  },
  {
   "cell_type": "code",
   "execution_count": null,
   "id": "2bdc33ca-529a-4e59-994a-b89ed9d662cd",
   "metadata": {},
   "outputs": [],
   "source": []
  }
 ],
 "metadata": {
  "kernelspec": {
   "display_name": "Python 3 (ipykernel)",
   "language": "python",
   "name": "python3"
  },
  "language_info": {
   "codemirror_mode": {
    "name": "ipython",
    "version": 3
   },
   "file_extension": ".py",
   "mimetype": "text/x-python",
   "name": "python",
   "nbconvert_exporter": "python",
   "pygments_lexer": "ipython3",
   "version": "3.9.1"
  }
 },
 "nbformat": 4,
 "nbformat_minor": 5
}
